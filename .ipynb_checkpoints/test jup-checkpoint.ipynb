{
 "cells": [
  {
   "cell_type": "code",
   "execution_count": 14,
   "id": "123b9d05",
   "metadata": {
    "scrolled": false
   },
   "outputs": [],
   "source": [
    "\n",
    "import os\n",
    "import numpy as np\n",
    "import pandas as pd\n",
    "import matplotlib.pyplot as plt\n",
    "\n",
    "\n",
    "\n",
    "us_accidents = pd.read_csv('/Users/lyndon/Documents/GitHub/dataset0/US_Accidents_Dec21_updated.csv')\n",
    "#df = pd.DataFrame(dataset)\n",
    "\n",
    "us_accidents_13col=df.drop(['ID', 'Sunrise_Sunset', 'Wind_Direction', 'Pressure(in)', 'Precipitation(in)', 'Crossing', 'Stop', 'Wind_Chill(F)', 'Amenity', 'Bump', 'Give_Way', 'Railway', 'Roundabout', 'Station', 'Turning_Loop', 'Weather_Timestamp', 'Airport_Code', 'Junction', 'Traffic_Calming', 'No_Exit', 'Traffic_Signal',  'Start_Time', 'End_Time', 'End_Lat', 'End_Lng', 'City', 'County', 'State', 'Side','Wind_Speed(mph)',  'Description', 'Street', 'Number', 'Country', 'Distance(mi)', 'Astronomical_Twilight', 'Nautical_Twilight', 'Civil_Twilight'], axis = 1)\n",
    "\n",
    "\n",
    "\n",
    "\n"
   ]
  },
  {
   "cell_type": "code",
   "execution_count": 15,
   "id": "e56942d5",
   "metadata": {
    "scrolled": true
   },
   "outputs": [
    {
     "name": "stdout",
     "output_type": "stream",
     "text": [
      "<class 'pandas.core.frame.DataFrame'>\n",
      "RangeIndex: 2845342 entries, 0 to 2845341\n",
      "Data columns (total 9 columns):\n",
      " #   Column             Dtype  \n",
      "---  ------             -----  \n",
      " 0   Severity           int64  \n",
      " 1   Start_Lat          float64\n",
      " 2   Start_Lng          float64\n",
      " 3   Zipcode            object \n",
      " 4   Timezone           object \n",
      " 5   Temperature(F)     float64\n",
      " 6   Humidity(%)        float64\n",
      " 7   Visibility(mi)     float64\n",
      " 8   Weather_Condition  object \n",
      "dtypes: float64(5), int64(1), object(3)\n",
      "memory usage: 195.4+ MB\n"
     ]
    }
   ],
   "source": [
    "us_accidents_13col.info()"
   ]
  },
  {
   "cell_type": "code",
   "execution_count": 16,
   "id": "72e430f2",
   "metadata": {
    "scrolled": true
   },
   "outputs": [
    {
     "data": {
      "text/html": [
       "<div>\n",
       "<style scoped>\n",
       "    .dataframe tbody tr th:only-of-type {\n",
       "        vertical-align: middle;\n",
       "    }\n",
       "\n",
       "    .dataframe tbody tr th {\n",
       "        vertical-align: top;\n",
       "    }\n",
       "\n",
       "    .dataframe thead th {\n",
       "        text-align: right;\n",
       "    }\n",
       "</style>\n",
       "<table border=\"1\" class=\"dataframe\">\n",
       "  <thead>\n",
       "    <tr style=\"text-align: right;\">\n",
       "      <th></th>\n",
       "      <th>Severity</th>\n",
       "      <th>Start_Lat</th>\n",
       "      <th>Start_Lng</th>\n",
       "      <th>Zipcode</th>\n",
       "      <th>Timezone</th>\n",
       "      <th>Temperature(F)</th>\n",
       "      <th>Humidity(%)</th>\n",
       "      <th>Visibility(mi)</th>\n",
       "      <th>Weather_Condition</th>\n",
       "    </tr>\n",
       "  </thead>\n",
       "  <tbody>\n",
       "    <tr>\n",
       "      <th>0</th>\n",
       "      <td>3</td>\n",
       "      <td>40.108910</td>\n",
       "      <td>-83.092860</td>\n",
       "      <td>43017</td>\n",
       "      <td>US/Eastern</td>\n",
       "      <td>42.1</td>\n",
       "      <td>58.0</td>\n",
       "      <td>10.0</td>\n",
       "      <td>Light Rain</td>\n",
       "    </tr>\n",
       "    <tr>\n",
       "      <th>1</th>\n",
       "      <td>2</td>\n",
       "      <td>39.865420</td>\n",
       "      <td>-84.062800</td>\n",
       "      <td>45424</td>\n",
       "      <td>US/Eastern</td>\n",
       "      <td>36.9</td>\n",
       "      <td>91.0</td>\n",
       "      <td>10.0</td>\n",
       "      <td>Light Rain</td>\n",
       "    </tr>\n",
       "    <tr>\n",
       "      <th>2</th>\n",
       "      <td>2</td>\n",
       "      <td>39.102660</td>\n",
       "      <td>-84.524680</td>\n",
       "      <td>45203</td>\n",
       "      <td>US/Eastern</td>\n",
       "      <td>36.0</td>\n",
       "      <td>97.0</td>\n",
       "      <td>10.0</td>\n",
       "      <td>Overcast</td>\n",
       "    </tr>\n",
       "    <tr>\n",
       "      <th>3</th>\n",
       "      <td>2</td>\n",
       "      <td>41.062130</td>\n",
       "      <td>-81.537840</td>\n",
       "      <td>44311</td>\n",
       "      <td>US/Eastern</td>\n",
       "      <td>39.0</td>\n",
       "      <td>55.0</td>\n",
       "      <td>10.0</td>\n",
       "      <td>Overcast</td>\n",
       "    </tr>\n",
       "    <tr>\n",
       "      <th>4</th>\n",
       "      <td>3</td>\n",
       "      <td>39.172393</td>\n",
       "      <td>-84.492792</td>\n",
       "      <td>45217</td>\n",
       "      <td>US/Eastern</td>\n",
       "      <td>37.0</td>\n",
       "      <td>93.0</td>\n",
       "      <td>10.0</td>\n",
       "      <td>Light Rain</td>\n",
       "    </tr>\n",
       "  </tbody>\n",
       "</table>\n",
       "</div>"
      ],
      "text/plain": [
       "   Severity  Start_Lat  Start_Lng Zipcode    Timezone  Temperature(F)  \\\n",
       "0         3  40.108910 -83.092860   43017  US/Eastern            42.1   \n",
       "1         2  39.865420 -84.062800   45424  US/Eastern            36.9   \n",
       "2         2  39.102660 -84.524680   45203  US/Eastern            36.0   \n",
       "3         2  41.062130 -81.537840   44311  US/Eastern            39.0   \n",
       "4         3  39.172393 -84.492792   45217  US/Eastern            37.0   \n",
       "\n",
       "   Humidity(%)  Visibility(mi) Weather_Condition  \n",
       "0         58.0            10.0        Light Rain  \n",
       "1         91.0            10.0        Light Rain  \n",
       "2         97.0            10.0          Overcast  \n",
       "3         55.0            10.0          Overcast  \n",
       "4         93.0            10.0        Light Rain  "
      ]
     },
     "execution_count": 16,
     "metadata": {},
     "output_type": "execute_result"
    }
   ],
   "source": [
    "us_accidents_13col.head()\n"
   ]
  },
  {
   "cell_type": "code",
   "execution_count": 17,
   "id": "39e7896a",
   "metadata": {
    "scrolled": true
   },
   "outputs": [
    {
     "data": {
      "text/plain": [
       "US/Eastern     1221927\n",
       "US/Pacific      967094\n",
       "US/Central      488065\n",
       "US/Mountain     164597\n",
       "Name: Timezone, dtype: int64"
      ]
     },
     "execution_count": 17,
     "metadata": {},
     "output_type": "execute_result"
    }
   ],
   "source": [
    "us_accidents_13col['Timezone'].value_counts()"
   ]
  },
  {
   "cell_type": "code",
   "execution_count": 18,
   "id": "00c2ae92",
   "metadata": {
    "scrolled": true
   },
   "outputs": [
    {
     "data": {
      "text/html": [
       "<div>\n",
       "<style scoped>\n",
       "    .dataframe tbody tr th:only-of-type {\n",
       "        vertical-align: middle;\n",
       "    }\n",
       "\n",
       "    .dataframe tbody tr th {\n",
       "        vertical-align: top;\n",
       "    }\n",
       "\n",
       "    .dataframe thead th {\n",
       "        text-align: right;\n",
       "    }\n",
       "</style>\n",
       "<table border=\"1\" class=\"dataframe\">\n",
       "  <thead>\n",
       "    <tr style=\"text-align: right;\">\n",
       "      <th></th>\n",
       "      <th>Severity</th>\n",
       "      <th>Start_Lat</th>\n",
       "      <th>Start_Lng</th>\n",
       "      <th>Temperature(F)</th>\n",
       "      <th>Humidity(%)</th>\n",
       "      <th>Visibility(mi)</th>\n",
       "    </tr>\n",
       "  </thead>\n",
       "  <tbody>\n",
       "    <tr>\n",
       "      <th>count</th>\n",
       "      <td>2.845342e+06</td>\n",
       "      <td>2.845342e+06</td>\n",
       "      <td>2.845342e+06</td>\n",
       "      <td>2.776068e+06</td>\n",
       "      <td>2.772250e+06</td>\n",
       "      <td>2.774796e+06</td>\n",
       "    </tr>\n",
       "    <tr>\n",
       "      <th>mean</th>\n",
       "      <td>2.137572e+00</td>\n",
       "      <td>3.624520e+01</td>\n",
       "      <td>-9.711463e+01</td>\n",
       "      <td>6.179356e+01</td>\n",
       "      <td>6.436545e+01</td>\n",
       "      <td>9.099391e+00</td>\n",
       "    </tr>\n",
       "    <tr>\n",
       "      <th>std</th>\n",
       "      <td>4.787216e-01</td>\n",
       "      <td>5.363797e+00</td>\n",
       "      <td>1.831782e+01</td>\n",
       "      <td>1.862263e+01</td>\n",
       "      <td>2.287457e+01</td>\n",
       "      <td>2.717546e+00</td>\n",
       "    </tr>\n",
       "    <tr>\n",
       "      <th>min</th>\n",
       "      <td>1.000000e+00</td>\n",
       "      <td>2.456603e+01</td>\n",
       "      <td>-1.245481e+02</td>\n",
       "      <td>-8.900000e+01</td>\n",
       "      <td>1.000000e+00</td>\n",
       "      <td>0.000000e+00</td>\n",
       "    </tr>\n",
       "    <tr>\n",
       "      <th>25%</th>\n",
       "      <td>2.000000e+00</td>\n",
       "      <td>3.344517e+01</td>\n",
       "      <td>-1.180331e+02</td>\n",
       "      <td>5.000000e+01</td>\n",
       "      <td>4.800000e+01</td>\n",
       "      <td>1.000000e+01</td>\n",
       "    </tr>\n",
       "    <tr>\n",
       "      <th>50%</th>\n",
       "      <td>2.000000e+00</td>\n",
       "      <td>3.609861e+01</td>\n",
       "      <td>-9.241808e+01</td>\n",
       "      <td>6.400000e+01</td>\n",
       "      <td>6.700000e+01</td>\n",
       "      <td>1.000000e+01</td>\n",
       "    </tr>\n",
       "    <tr>\n",
       "      <th>75%</th>\n",
       "      <td>2.000000e+00</td>\n",
       "      <td>4.016024e+01</td>\n",
       "      <td>-8.037243e+01</td>\n",
       "      <td>7.600000e+01</td>\n",
       "      <td>8.300000e+01</td>\n",
       "      <td>1.000000e+01</td>\n",
       "    </tr>\n",
       "    <tr>\n",
       "      <th>max</th>\n",
       "      <td>4.000000e+00</td>\n",
       "      <td>4.900058e+01</td>\n",
       "      <td>-6.711317e+01</td>\n",
       "      <td>1.960000e+02</td>\n",
       "      <td>1.000000e+02</td>\n",
       "      <td>1.400000e+02</td>\n",
       "    </tr>\n",
       "  </tbody>\n",
       "</table>\n",
       "</div>"
      ],
      "text/plain": [
       "           Severity     Start_Lat     Start_Lng  Temperature(F)   Humidity(%)  \\\n",
       "count  2.845342e+06  2.845342e+06  2.845342e+06    2.776068e+06  2.772250e+06   \n",
       "mean   2.137572e+00  3.624520e+01 -9.711463e+01    6.179356e+01  6.436545e+01   \n",
       "std    4.787216e-01  5.363797e+00  1.831782e+01    1.862263e+01  2.287457e+01   \n",
       "min    1.000000e+00  2.456603e+01 -1.245481e+02   -8.900000e+01  1.000000e+00   \n",
       "25%    2.000000e+00  3.344517e+01 -1.180331e+02    5.000000e+01  4.800000e+01   \n",
       "50%    2.000000e+00  3.609861e+01 -9.241808e+01    6.400000e+01  6.700000e+01   \n",
       "75%    2.000000e+00  4.016024e+01 -8.037243e+01    7.600000e+01  8.300000e+01   \n",
       "max    4.000000e+00  4.900058e+01 -6.711317e+01    1.960000e+02  1.000000e+02   \n",
       "\n",
       "       Visibility(mi)  \n",
       "count    2.774796e+06  \n",
       "mean     9.099391e+00  \n",
       "std      2.717546e+00  \n",
       "min      0.000000e+00  \n",
       "25%      1.000000e+01  \n",
       "50%      1.000000e+01  \n",
       "75%      1.000000e+01  \n",
       "max      1.400000e+02  "
      ]
     },
     "execution_count": 18,
     "metadata": {},
     "output_type": "execute_result"
    }
   ],
   "source": [
    "us_accidents_13col.describe()"
   ]
  },
  {
   "cell_type": "code",
   "execution_count": 19,
   "id": "d8b5ddc3",
   "metadata": {},
   "outputs": [
    {
     "data": {
      "text/plain": [
       "array([[<AxesSubplot:title={'center':'Severity'}>,\n",
       "        <AxesSubplot:title={'center':'Start_Lat'}>],\n",
       "       [<AxesSubplot:title={'center':'Start_Lng'}>,\n",
       "        <AxesSubplot:title={'center':'Temperature(F)'}>],\n",
       "       [<AxesSubplot:title={'center':'Humidity(%)'}>,\n",
       "        <AxesSubplot:title={'center':'Visibility(mi)'}>]], dtype=object)"
      ]
     },
     "execution_count": 19,
     "metadata": {},
     "output_type": "execute_result"
    },
    {
     "data": {
      "image/png": "[encoded data removed]",
      "text/plain": [
       "<Figure size 1440x1080 with 6 Axes>"
      ]
     },
     "metadata": {
      "needs_background": "light"
     },
     "output_type": "display_data"
    }
   ],
   "source": [
    "us_accidents_13col.hist(bins=50, figsize=(20,15))"
   ]
  },
  {
   "cell_type": "code",
   "execution_count": null,
   "id": "4a71aa7f",
   "metadata": {},
   "outputs": [],
   "source": []
  }
 ],
 "metadata": {
  "kernelspec": {
   "display_name": "Python 3 (ipykernel)",
   "language": "python",
   "name": "python3"
  },
  "language_info": {
   "codemirror_mode": {
    "name": "ipython",
    "version": 3
   },
   "file_extension": ".py",
   "mimetype": "text/x-python",
   "name": "python",
   "nbconvert_exporter": "python",
   "pygments_lexer": "ipython3",
   "version": "3.10.2"
  }
 },
 "nbformat": 4,
 "nbformat_minor": 5
}
